{
  "nbformat": 4,
  "nbformat_minor": 0,
  "metadata": {
    "colab": {
      "name": "pixelate.ipynb",
      "provenance": [],
      "collapsed_sections": [],
      "authorship_tag": "ABX9TyMXDXPIxwtu5Wi3PxHqC+V7"
    },
    "kernelspec": {
      "name": "python3",
      "display_name": "Python 3"
    },
    "language_info": {
      "name": "python"
    }
  },
  "cells": [
    {
      "cell_type": "code",
      "source": [
        "pip install anvil-uplink"
      ],
      "metadata": {
        "colab": {
          "base_uri": "https://localhost:8080/",
          "height": 418
        },
        "id": "CFqWetN5YCPQ",
        "outputId": "fcc990a8-a193-4545-bb71-59d2a6963828"
      },
      "execution_count": null,
      "outputs": [
        {
          "output_type": "stream",
          "name": "stdout",
          "text": [
            "Collecting anvil-uplink\n",
            "  Downloading anvil_uplink-0.3.42-py2.py3-none-any.whl (64 kB)\n",
            "\u001b[?25l\r\u001b[K     |█████                           | 10 kB 20.2 MB/s eta 0:00:01\r\u001b[K     |██████████▏                     | 20 kB 13.6 MB/s eta 0:00:01\r\u001b[K     |███████████████▏                | 30 kB 10.2 MB/s eta 0:00:01\r\u001b[K     |████████████████████▎           | 40 kB 9.0 MB/s eta 0:00:01\r\u001b[K     |█████████████████████████▎      | 51 kB 4.5 MB/s eta 0:00:01\r\u001b[K     |██████████████████████████████▍ | 61 kB 5.3 MB/s eta 0:00:01\r\u001b[K     |████████████████████████████████| 64 kB 2.2 MB/s \n",
            "\u001b[?25hCollecting ws4py\n",
            "  Downloading ws4py-0.5.1.tar.gz (51 kB)\n",
            "\u001b[K     |████████████████████████████████| 51 kB 236 kB/s \n",
            "\u001b[?25hRequirement already satisfied: six in /usr/local/lib/python3.7/dist-packages (from anvil-uplink) (1.15.0)\n",
            "Requirement already satisfied: future in /usr/local/lib/python3.7/dist-packages (from anvil-uplink) (0.16.0)\n",
            "Collecting argparse\n",
            "  Downloading argparse-1.4.0-py2.py3-none-any.whl (23 kB)\n",
            "Building wheels for collected packages: ws4py\n",
            "  Building wheel for ws4py (setup.py) ... \u001b[?25l\u001b[?25hdone\n",
            "  Created wheel for ws4py: filename=ws4py-0.5.1-py3-none-any.whl size=45229 sha256=2cc434018a626baff1b557d44bed5b3e6e0c8f08c432f2a6cb7ea45bfa5e9569\n",
            "  Stored in directory: /root/.cache/pip/wheels/29/ea/7d/3410aa0aa0e4402ead9a7a97ab2214804887e0f5c2b76f0c96\n",
            "Successfully built ws4py\n",
            "Installing collected packages: ws4py, argparse, anvil-uplink\n",
            "Successfully installed anvil-uplink-0.3.42 argparse-1.4.0 ws4py-0.5.1\n"
          ]
        },
        {
          "output_type": "display_data",
          "data": {
            "application/vnd.colab-display-data+json": {
              "pip_warning": {
                "packages": [
                  "argparse",
                  "google"
                ]
              }
            }
          },
          "metadata": {}
        }
      ]
    },
    {
      "cell_type": "code",
      "source": [
        "import anvil.server\n",
        "\n",
        "anvil.server.connect(\"ZNTUF6AFOSTCWEQJUPP66JO7-VUEZTCI3SSJK7BCI\")"
      ],
      "metadata": {
        "colab": {
          "base_uri": "https://localhost:8080/"
        },
        "id": "r2y8X88FYKk9",
        "outputId": "0bcd701b-8090-497e-d5fc-acd3470de695"
      },
      "execution_count": null,
      "outputs": [
        {
          "output_type": "stream",
          "name": "stdout",
          "text": [
            "Connecting to wss://anvil.works/uplink\n",
            "Anvil websocket open\n",
            "Connected to \"Default environment\" as SERVER\n"
          ]
        }
      ]
    },
    {
      "cell_type": "code",
      "execution_count": null,
      "metadata": {
        "id": "wpZJvQRZ3G0s"
      },
      "outputs": [],
      "source": [
        "from PIL import Image\n",
        "import matplotlib.pyplot as pyplot\n",
        "import numpy as np\n",
        "import itertools"
      ]
    },
    {
      "cell_type": "code",
      "source": [
        "img = Image.open('./shiva.jpg')"
      ],
      "metadata": {
        "id": "YNEyiD4D3Vhg"
      },
      "execution_count": null,
      "outputs": []
    },
    {
      "cell_type": "code",
      "source": [
        "def resize(img):\n",
        "  dim = np.ceil(np.sqrt(img.size[0] * img.size[1])).astype(int)\n",
        "  img = img.resize((dim, dim))\n",
        "  return img\n",
        "img = resize(img)\n"
      ],
      "metadata": {
        "id": "zS6S0B5R4k_2"
      },
      "execution_count": null,
      "outputs": []
    },
    {
      "cell_type": "code",
      "source": [
        "# img = img.resize((300, 300))\n",
        "pyplot.imshow(img)\n",
        "pyplot.show()"
      ],
      "metadata": {
        "id": "yoMzhfPk3vdC"
      },
      "execution_count": null,
      "outputs": []
    },
    {
      "cell_type": "code",
      "source": [
        "\n",
        "width, height = img.size\n",
        "window_size = 15\n",
        "new_img = Image.new('RGB', img.size)\n",
        "grid = itertools.product(range(0, height-height%window_size, window_size), range(0, width-width%window_size, window_size))\n",
        "for i, j in grid:\n",
        "  box = (j, i, j+window_size, i+window_size)\n",
        "  # print(box)\n",
        "  # print(j ,i ,j+window_size, i+window_size)\n",
        "  c_img = img.crop(box)\n",
        "  # print(np.average(c_img, axis = (0,1)))\n",
        "  avg_color = np.average(c_img, axis = (0,1))\n",
        "  # print(\"avg_color\" , avg_color)\n",
        "  for m in range(box[0], box[2]):\n",
        "    for n in range(box[1], box[3]):\n",
        "      new_img.putpixel((m,n), (int(avg_color[0]), int(avg_color[1]), int(avg_color[2])))\n",
        "\n",
        "pyplot.imshow(new_img)\n",
        "pyplot.show()"
      ],
      "metadata": {
        "id": "e4m_T4Hz6l4x"
      },
      "execution_count": null,
      "outputs": []
    },
    {
      "cell_type": "code",
      "source": [
        "import cv2\n",
        "from google.colab.patches import cv2_imshow\n",
        "from google.colab import files\n",
        "\n",
        "def edge_mask(img, line_size, blur_value):\n",
        "  gray = cv2.cvtColor(img, cv2.COLOR_BGR2GRAY)\n",
        "  gray_blur = cv2.medianBlur(gray, blur_value)\n",
        "  edges = cv2.adaptiveThreshold(gray_blur, 255, cv2.ADAPTIVE_THRESH_MEAN_C, cv2.THRESH_BINARY, line_size, blur_value)\n",
        "  return edges\n",
        "\n",
        "def color_quantize(img, k):\n",
        "  # Transform the image\n",
        "  data = np.float32(img).reshape((-1, 3))\n",
        "\n",
        "  # Determine criteria\n",
        "  criteria = (cv2.TERM_CRITERIA_EPS + cv2.TERM_CRITERIA_MAX_ITER, 20, 0.001)\n",
        "\n",
        "  # Implementing K-Means\n",
        "  ret, label, center = cv2.kmeans(data, k, None, criteria, 10, cv2.KMEANS_RANDOM_CENTERS)\n",
        "  center = np.uint8(center)\n",
        "  result = center[label.flatten()]\n",
        "  result = result.reshape(img.shape)\n",
        "  return result\n",
        "\n",
        "def cartoonize(img ,blur_value, line_size, colors):\n",
        "  cv_img = np.array(img)\n",
        "  cv_img = cv_img[:, :, ::-1].copy()\n",
        "  # line_size = 5\n",
        "  # blur_value = 10\n",
        "  edges = edge_mask(cv_img, line_size, blur_value)\n",
        "  # colors = 3\n",
        "  colored = color_quantize(cv_img, colors)\n",
        "  blurred = cv2.bilateralFilter(colored, d=3, sigmaColor=200,sigmaSpace=200)\n",
        "  cartoon = cv2.bitwise_and(blurred, blurred, mask=edges)\n",
        "  cv2_imshow(cartoon)\n",
        "  cartoon = cv2.cvtColor(cartoon, cv2.COLOR_BGR2RGB)\n",
        "  return Image.fromarray(cartoon)\n",
        "\n",
        "\n",
        "\n",
        "# cartoonize(img)\n",
        "\n"
      ],
      "metadata": {
        "id": "VuNVvVso7liA"
      },
      "execution_count": null,
      "outputs": []
    },
    {
      "cell_type": "code",
      "source": [
        "from PIL import Image\n",
        "import matplotlib.pyplot as pyplot\n",
        "import numpy as np\n",
        "import itertools\n",
        "\n",
        "def pixelate(img, window_size, blur_value, line_size, colors):\n",
        "  width, height = img.size\n",
        "  # window_size = 15\n",
        "  new_img = Image.new('RGB', img.size)\n",
        "  img = cartoonize(img, blur_value, line_size, colors)\n",
        "  grid = itertools.product(range(0, height-height%window_size, window_size), range(0, width-width%window_size, window_size))\n",
        "  for i, j in grid:\n",
        "    box = (j, i, j+window_size, i+window_size)\n",
        "    # print(box)\n",
        "    # print(j ,i ,j+window_size, i+window_size)\n",
        "    c_img = img.crop(box)\n",
        "    # print(np.average(c_img, axis = (0,1)))\n",
        "    avg_color = np.average(c_img, axis = (0,1))\n",
        "    # print(\"avg_color\" , avg_color)\n",
        "    for m in range(box[0], box[2]):\n",
        "      for n in range(box[1], box[3]):\n",
        "        new_img.putpixel((m,n), (int(avg_color[0]), int(avg_color[1]), int(avg_color[2])))\n",
        "  return new_img"
      ],
      "metadata": {
        "id": "V3YZ5hq2Y_Tc"
      },
      "execution_count": null,
      "outputs": []
    },
    {
      "cell_type": "code",
      "source": [
        "import anvil.media\n",
        "import io\n",
        "@anvil.server.callable\n",
        "def pixelate_img(file, steps, blur_value, line_size, colors):\n",
        "  with anvil.media.TempFile(file) as file_name:\n",
        "    img = Image.open(file_name)\n",
        "    img = pixelate(img, steps, blur_value, line_size, colors)\n",
        "    byte_arr = io.BytesIO()\n",
        "    img.save(byte_arr, format='PNG')\n",
        "    return anvil.BlobMedia('image/png', byte_arr.getvalue(), name='pixel_image.png')\n",
        "\n"
      ],
      "metadata": {
        "id": "58NPkwM-JYti"
      },
      "execution_count": null,
      "outputs": []
    }
  ]
}